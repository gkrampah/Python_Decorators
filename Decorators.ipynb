{
 "cells": [
  {
   "cell_type": "markdown",
   "id": "f417ec0c",
   "metadata": {},
   "source": [
    "# Decorators:\n",
    "\n",
    "These are higher-order functions - take other functions as input or/and output argument - that can modify the behaviour of other functions without changing the core functionality of the function of the function being decorated acts as wrapper. One can think of the decorator as a pizza topping and the decorated function as the dough. No matter the topping used the dough still remains a dough.  The decorator accepts other functions as its argument. decorators can be used for timing, caching and logging\n",
    "\n",
    "Any suﬃciently generic functionality you can tack on to an existing class or function’s behavior makes a great use case for decoration. This includes the following:\n",
    "* logging\n",
    "* enforcing access control and authentication\n",
    "* instrumentation and timing functions\n",
    "* rate-limiting\n",
    "* caching, and more\n"
   ]
  },
  {
   "cell_type": "markdown",
   "id": "3b5582fd",
   "metadata": {},
   "source": [
    "## Function decorators"
   ]
  },
  {
   "cell_type": "code",
   "execution_count": 1,
   "id": "191e4e2c",
   "metadata": {},
   "outputs": [
    {
     "data": {
      "text/plain": [
       "'<strong><em>Hello!</em></strong>'"
      ]
     },
     "execution_count": 1,
     "metadata": {},
     "output_type": "execute_result"
    }
   ],
   "source": [
    "def strong(func):\n",
    "    def wrapper():\n",
    "        return '<strong>' + func() + '</strong>'\n",
    "    return wrapper\n",
    "def emphasis(func):\n",
    "    def wrapper():\n",
    "        return '<em>' + func() + '</em>'\n",
    "    return wrapper\n",
    "@strong\n",
    "@emphasis\n",
    "def greet():\n",
    "    return 'Hello!'\n",
    "\n",
    "#This clearly shows in what order the decorators were applied: from bottom to top\n",
    "greet()"
   ]
  },
  {
   "cell_type": "code",
   "execution_count": 60,
   "id": "adc4465c",
   "metadata": {},
   "outputs": [
    {
     "name": "stdout",
     "output_type": "stream",
     "text": [
      "Calling cal_cum_sum: 0.000\n",
      "[ 0  1  3  6 10 15 21 28 36 45]\n",
      "Calling cal_cum_sum: 0.000\n",
      "Calling logger: 0.000\n",
      "[ 0  1  3  6 10 15 21 28 36 45]\n"
     ]
    }
   ],
   "source": [
    "import time\n",
    "import numpy as np\n",
    "\n",
    "def timer(func):\n",
    "    \"\"\"Decorator for timing\"\"\"\n",
    "    def logger():\n",
    "        \"\"\"Function that cal time\"\"\"\n",
    "        start = time.time()\n",
    "        re = func()\n",
    "        end = time.time()\n",
    "        print(f\"Calling {func.__name__}: {end - start:.3f}\")\n",
    "        return re\n",
    "    return logger\n",
    " \n",
    "@timer\n",
    "def cal_cum_sum():\n",
    "    return np.cumsum(np.arange(10))\n",
    " \n",
    "print(cal_cum_sum()) #what is happening under the hood is below\n",
    "\n",
    "cal_cum_sum = timer(cal_cum_sum)\n",
    "print(cal_cum_sum())"
   ]
  },
  {
   "cell_type": "markdown",
   "id": "8a388af8",
   "metadata": {},
   "source": [
    "## Class decorators"
   ]
  },
  {
   "cell_type": "code",
   "execution_count": 63,
   "id": "e214fb8f",
   "metadata": {},
   "outputs": [
    {
     "name": "stdout",
     "output_type": "stream",
     "text": [
      "Calling cal_cum_sum: 0.000\n",
      "[ 0  1  3  6 10 15 21 28 36 45]\n"
     ]
    }
   ],
   "source": [
    "class timer_c(object):\n",
    "    def __init__(self, func):\n",
    "        self.func = func\n",
    "    def __call__(self):\n",
    "        start = time.time()\n",
    "        re = self.func()\n",
    "        end = time.time()\n",
    "        print(f\"Calling {self.func.__name__}: {end - start:.3f}\")\n",
    "        return re\n",
    "\n",
    "@timer_c\n",
    "def cal_cum_sum():\n",
    "    return np.cumsum(np.arange(10))\n",
    " \n",
    "print(cal_cum_sum())"
   ]
  },
  {
   "cell_type": "markdown",
   "id": "8966b11f",
   "metadata": {},
   "source": [
    " The decorator above assumes that the decorated function requires no input as argument. Lets consider the case where an input is rquired nd how we can modify the decorator"
   ]
  },
  {
   "cell_type": "code",
   "execution_count": 59,
   "id": "7b960d72",
   "metadata": {},
   "outputs": [
    {
     "ename": "TypeError",
     "evalue": "logger() takes 0 positional arguments but 1 was given",
     "output_type": "error",
     "traceback": [
      "\u001b[0;31m---------------------------------------------------------------------------\u001b[0m",
      "\u001b[0;31mTypeError\u001b[0m                                 Traceback (most recent call last)",
      "\u001b[0;32m/tmp/ipykernel_18229/663405752.py\u001b[0m in \u001b[0;36m<module>\u001b[0;34m\u001b[0m\n\u001b[1;32m      3\u001b[0m     \u001b[0;32mreturn\u001b[0m \u001b[0mnp\u001b[0m\u001b[0;34m.\u001b[0m\u001b[0mcumsum\u001b[0m\u001b[0;34m(\u001b[0m\u001b[0mnp\u001b[0m\u001b[0;34m.\u001b[0m\u001b[0marange\u001b[0m\u001b[0;34m(\u001b[0m\u001b[0mm\u001b[0m\u001b[0;34m)\u001b[0m\u001b[0;34m)\u001b[0m\u001b[0;34m\u001b[0m\u001b[0;34m\u001b[0m\u001b[0m\n\u001b[1;32m      4\u001b[0m \u001b[0;34m\u001b[0m\u001b[0m\n\u001b[0;32m----> 5\u001b[0;31m \u001b[0mcal_cum_sum_m\u001b[0m\u001b[0;34m(\u001b[0m\u001b[0;36m200\u001b[0m\u001b[0;34m)\u001b[0m\u001b[0;34m\u001b[0m\u001b[0;34m\u001b[0m\u001b[0m\n\u001b[0m",
      "\u001b[0;31mTypeError\u001b[0m: logger() takes 0 positional arguments but 1 was given"
     ]
    }
   ],
   "source": [
    "@timer\n",
    "def cal_cum_sum_m(m):\n",
    "    return np.cumsum(np.arange(m))\n",
    "\n",
    "cal_cum_sum_m(200)"
   ]
  },
  {
   "cell_type": "code",
   "execution_count": 42,
   "id": "af5fdd4c",
   "metadata": {},
   "outputs": [
    {
     "name": "stdout",
     "output_type": "stream",
     "text": [
      "Calling cal_cum_sum_m: 0.000\n"
     ]
    },
    {
     "data": {
      "text/plain": [
       "array([ 0,  1,  3,  6, 10, 15, 21, 28, 36, 45])"
      ]
     },
     "execution_count": 42,
     "metadata": {},
     "output_type": "execute_result"
    }
   ],
   "source": [
    "#here we use *args, **kwargs as place holders for an unspecified amount of position and keyword arguments\n",
    "\n",
    "def timer_m(func):\n",
    "    \"\"\"Decorator for timing\"\"\"\n",
    "    def logger(*args, **kwargs):\n",
    "        \"\"\"Function that cal time\"\"\"\n",
    "        start = time.time()\n",
    "        re = func(*args, **kwargs)\n",
    "        end = time.time()\n",
    "        print(f\"Calling {func.__name__}: {end - start:.3f}\")\n",
    "        return re\n",
    "    return logger\n",
    "\n",
    "@timer_m\n",
    "def cal_cum_sum_m(m):\n",
    "    \"\"\"cal the cumulative sum of array\"\"\"\n",
    "    return np.cumsum(np.arange(m))\n",
    "\n",
    "cal_cum_sum_m(10) "
   ]
  },
  {
   "cell_type": "markdown",
   "id": "0f33adfd",
   "metadata": {},
   "source": [
    "Decorator messes up the metadata/docstring of the decorated function as shown below and we see how this can be corrected for"
   ]
  },
  {
   "cell_type": "code",
   "execution_count": 43,
   "id": "b22131b0",
   "metadata": {},
   "outputs": [
    {
     "name": "stdout",
     "output_type": "stream",
     "text": [
      "Function that cal time\n"
     ]
    }
   ],
   "source": [
    "print(cal_cum_sum_m.__doc__)"
   ]
  },
  {
   "cell_type": "code",
   "execution_count": 44,
   "id": "0f712b21",
   "metadata": {},
   "outputs": [
    {
     "name": "stdout",
     "output_type": "stream",
     "text": [
      "cal the cumulative sum of array\n"
     ]
    }
   ],
   "source": [
    "from functools import wraps\n",
    "\n",
    "def timer_m(func):\n",
    "    \"\"\"a decorator that prints how long a functio took to run..\"\"\"\n",
    "    @wraps(func)\n",
    "    def wrapper(*args, **kwargs):\n",
    "        \"\"\"Print 'hello' and then call the decorated function.\"\"\"\n",
    "        ts = time.time()\n",
    "        re = func(*args, **kwargs)\n",
    "        te = time.time() - ts\n",
    "        print(\"{} took {}s\".format(func.__name__, te))\n",
    "        return re\n",
    "    return wrapper\n",
    "\n",
    "@timer_m\n",
    "def cal_cum_sum_m(m):\n",
    "    \"\"\"cal the cumulative sum of array\"\"\"\n",
    "    return np.cumsum(np.arange(m))\n",
    "\n",
    "print(cal_cum_sum_m.__doc__)"
   ]
  },
  {
   "cell_type": "markdown",
   "id": "9b780a11",
   "metadata": {},
   "source": [
    "### Some example decorators"
   ]
  },
  {
   "cell_type": "code",
   "execution_count": 45,
   "id": "1a292c5e",
   "metadata": {},
   "outputs": [
    {
     "name": "stdout",
     "output_type": "stream",
     "text": [
      "16\n",
      "16\n"
     ]
    }
   ],
   "source": [
    "def multiply(a,b):\n",
    "    \n",
    "    return a*b\n",
    "\n",
    "def doubles(func):\n",
    "    \n",
    "    #defins a func we can modify\n",
    "    def wrapper(a,b):\n",
    "        \n",
    "        return func(a*2, b*2)\n",
    "    #returns the new func\n",
    "    return wrapper\n",
    "\n",
    "# taking a function as an argument\n",
    "nw = doubles(multiply) # eqn 1\n",
    "\n",
    "print(nw(1,4))\n",
    "\n",
    "#another way to implemnent eqn 1 using\n",
    "@doubles\n",
    "def multiply(a,b):\n",
    "    \n",
    "    return a*b\n",
    "\n",
    "print(multiply(1,4))"
   ]
  },
  {
   "cell_type": "code",
   "execution_count": 46,
   "id": "9ecd1718",
   "metadata": {},
   "outputs": [
    {
     "name": "stdout",
     "output_type": "stream",
     "text": [
      "Before multiply\n",
      "50\n",
      "After multiply\n"
     ]
    }
   ],
   "source": [
    "def print_before_and_after(func):\n",
    "    def wrapper(*args):\n",
    "        print('Before {}'.format(func.__name__))\n",
    "        # Call the function being decorated with *args\n",
    "        func(*args)\n",
    "        print('After {}'.format(func.__name__))\n",
    "        # Return the nested function\n",
    "    return wrapper\n",
    "\n",
    "@print_before_and_after\n",
    "def multiply(a, b):\n",
    "    print(a * b)\n",
    "\n",
    "multiply(5, 10)"
   ]
  },
  {
   "cell_type": "code",
   "execution_count": 47,
   "id": "a5ec2396",
   "metadata": {},
   "outputs": [
    {
     "name": "stdout",
     "output_type": "stream",
     "text": [
      "foo() returned type <class 'int'>\n",
      "42\n",
      "foo() returned type <class 'list'>\n",
      "[1, 2, 3]\n",
      "foo() returned type <class 'dict'>\n",
      "{'a': 42}\n"
     ]
    }
   ],
   "source": [
    "def print_return_type(func):\n",
    "    # Define wrapper(), the decorated function\n",
    "    def wrapper(*args, **kwargs):\n",
    "        # Call the function being decorated\n",
    "        result = func(*args, **kwargs)\n",
    "        print('{}() returned type {}'.format(\n",
    "          func.__name__, type(result)\n",
    "        ))\n",
    "        return result\n",
    "        # Return the decorated function\n",
    "    return wrapper\n",
    "\n",
    "@print_return_type\n",
    "def foo(value):\n",
    "    return value\n",
    "  \n",
    "print(foo(42))\n",
    "print(foo([1, 2, 3]))\n",
    "print(foo({'a': 42}))"
   ]
  },
  {
   "cell_type": "code",
   "execution_count": 48,
   "id": "02efee3d",
   "metadata": {},
   "outputs": [
    {
     "name": "stdout",
     "output_type": "stream",
     "text": [
      "calling foo()\n",
      "calling foo()\n",
      "foo() was called 2 times.\n"
     ]
    }
   ],
   "source": [
    "def counter(func):\n",
    "  def wrapper(*args, **kwargs):\n",
    "    wrapper.count += 1\n",
    "    # Call the function being decorated and return the result\n",
    "    return func(*args, **kwargs)\n",
    "  wrapper.count = 0\n",
    "  # Return the new decorated function\n",
    "  return wrapper\n",
    "\n",
    "# Decorate foo() with the counter() decorator\n",
    "@counter\n",
    "def foo():\n",
    "  print('calling foo()')\n",
    "  \n",
    "foo()\n",
    "foo()\n",
    "\n",
    "print('foo() was called {} times.'.format(foo.count))"
   ]
  },
  {
   "cell_type": "code",
   "execution_count": 71,
   "id": "039893c6",
   "metadata": {},
   "outputs": [
    {
     "name": "stdout",
     "output_type": "stream",
     "text": [
      "(42,)\n"
     ]
    }
   ],
   "source": [
    "def my_logger(orig_func):\n",
    "    import logging\n",
    "    logging.basicConfig(filename='{}.log'.format(orig_func.__name__), level=logging.INFO)\n",
    "\n",
    "    @wraps(orig_func)\n",
    "    def wrapper(*args, **kwargs):\n",
    "        logging.info(\n",
    "            'Ran with args: {}, and kwargs: {}'.format(args, kwargs))\n",
    "        return orig_func(*args, **kwargs)\n",
    "\n",
    "    return wrapper\n",
    "\n",
    "@my_logger\n",
    "def foo(*args,):\n",
    "    return args\n",
    "  \n",
    "print(foo(42))\n"
   ]
  },
  {
   "cell_type": "markdown",
   "id": "07ae297f",
   "metadata": {},
   "source": [
    "* One downside of using decorators is that it “hides” some of the metadata attached to the original (undecorated) function. This makes debugging and working with the Python interpreter awkward and challenging. Thankfully there’s a quick ﬁx for this: the functools.wraps decorator included in Python’s standard library.4"
   ]
  },
  {
   "cell_type": "code",
   "execution_count": 8,
   "id": "88403b09",
   "metadata": {},
   "outputs": [
    {
     "name": "stdout",
     "output_type": "stream",
     "text": [
      "wrapper None\n"
     ]
    }
   ],
   "source": [
    "def greet():\n",
    "    \"\"\"Return a friendly greeting.\"\"\"\n",
    "    return 'Hello!'\n",
    "#print(greet.__name__, greet.__doc__)\n",
    "\n",
    "def emphasis(func):\n",
    "    def wrapper():\n",
    "        return '<em>' + func() + '</em>'\n",
    "    return wrapper\n",
    "\n",
    "@emphasis\n",
    "def greet():\n",
    "    \"\"\"Return a friendly greeting.\"\"\"\n",
    "    return 'Hello!'\n",
    "\n",
    "print(greet.__name__, greet.__doc__)\n"
   ]
  },
  {
   "cell_type": "code",
   "execution_count": 7,
   "id": "03c0cba9",
   "metadata": {},
   "outputs": [
    {
     "name": "stdout",
     "output_type": "stream",
     "text": [
      "greet Return a friendly greeting.\n"
     ]
    }
   ],
   "source": [
    "import functools\n",
    "\n",
    "def emphasis(func):\n",
    "    @functools.wraps(func)\n",
    "    def wrapper():\n",
    "        return '<em>' + func() + '</em>'\n",
    "    return wrapper\n",
    "\n",
    "@emphasis\n",
    "def greet():\n",
    "    \"\"\"Return a friendly greeting.\"\"\"\n",
    "    return 'Hello!'\n",
    "\n",
    "print(greet.__name__, greet.__doc__)\n"
   ]
  },
  {
   "cell_type": "markdown",
   "id": "95d014e4",
   "metadata": {},
   "source": [
    "## Decorator with argument"
   ]
  },
  {
   "cell_type": "code",
   "execution_count": 49,
   "id": "564732db",
   "metadata": {},
   "outputs": [
    {
     "name": "stdout",
     "output_type": "stream",
     "text": [
      "cal_cum_sum_m took 3.24249267578125e-05 s\n"
     ]
    },
    {
     "data": {
      "text/plain": [
       "array([ 0,  1,  3,  6, 10, 15, 21, 28, 36, 45])"
      ]
     },
     "execution_count": 49,
     "metadata": {},
     "output_type": "execute_result"
    }
   ],
   "source": [
    "def timer_m(unit:str):\n",
    "    \"\"\"Decorator for timing\"\"\"\n",
    "    def logger(func):\n",
    "        def inner_logger(*args, **kwargs):\n",
    "            ts = time.time()\n",
    "            re = func(*args, **kwargs)\n",
    "            te = time.time() - ts\n",
    "            para = 1e9 if unit =='ns' else 1 \n",
    "            print(f\"{func.__name__} took {te*para} {unit}\")\n",
    "            return re\n",
    "        return inner_logger\n",
    "    return logger\n",
    "\n",
    "@timer_m('s')\n",
    "def cal_cum_sum_m(m):\n",
    "    \"\"\"cal the cumulative sum of array\"\"\"\n",
    "    return np.cumsum(np.arange(m))\n",
    "\n",
    "cal_cum_sum_m(10) "
   ]
  },
  {
   "cell_type": "code",
   "execution_count": 50,
   "id": "256cf54d",
   "metadata": {},
   "outputs": [
    {
     "name": "stdout",
     "output_type": "stream",
     "text": [
      "<b>Hello Alice!</b>\n"
     ]
    }
   ],
   "source": [
    "def html(open_tag, close_tag):\n",
    "  def decorator(func):\n",
    "    @wraps(func)\n",
    "    def wrapper(*args, **kwargs):\n",
    "      msg = func(*args, **kwargs)\n",
    "      return '{}{}{}'.format(open_tag, msg, close_tag)\n",
    "    # Return the decorated function\n",
    "    return wrapper\n",
    "  # Return the decorator\n",
    "  return decorator\n",
    "\n",
    "# Make hello() return bolded text\n",
    "@html('<b>', '</b>')\n",
    "def hello(name):\n",
    "  return 'Hello {}!'.format(name)\n",
    "  \n",
    "print(hello('Alice'))"
   ]
  },
  {
   "cell_type": "code",
   "execution_count": 51,
   "id": "1b0fe685",
   "metadata": {},
   "outputs": [
    {
     "name": "stdout",
     "output_type": "stream",
     "text": [
      "7\n",
      "7\n",
      "7\n"
     ]
    }
   ],
   "source": [
    "def run_n_times(n):\n",
    "    \"\"\"define and return a decorator\"\"\"\n",
    "    def decorator(func):\n",
    "        def wrapper(*args, **kwargs):\n",
    "            for _ in range(n):\n",
    "                func(*args, **kwargs)\n",
    "        return wrapper\n",
    "    return decorator\n",
    "\n",
    "@run_n_times(3)\n",
    "def print_sum(a,b):\n",
    "    print(a+b)\n",
    "    \n",
    "print_sum(3,4)   "
   ]
  },
  {
   "cell_type": "code",
   "execution_count": 52,
   "id": "562b3f4c",
   "metadata": {},
   "outputs": [
    {
     "name": "stdout",
     "output_type": "stream",
     "text": [
      "104\n",
      "104\n",
      "104\n",
      "104\n",
      "104\n"
     ]
    }
   ],
   "source": [
    "# Use run_n_times() to create the run_five_times() decorator\n",
    "run_five_times = run_n_times(5)\n",
    "\n",
    "@run_five_times\n",
    "def print_sum(a, b):\n",
    "  print(a + b)\n",
    "  \n",
    "print_sum(4, 100)"
   ]
  },
  {
   "cell_type": "code",
   "execution_count": 1,
   "id": "5ef83b44",
   "metadata": {},
   "outputs": [
    {
     "name": "stdout",
     "output_type": "stream",
     "text": [
      "foo() did not return a dict!\n"
     ]
    }
   ],
   "source": [
    "def returns_dict(func):\n",
    "  # Complete the returns_dict() decorator\n",
    "  def wrapper(*args, **kwargs):\n",
    "    result = func(*args, **kwargs)\n",
    "    assert type(result) == dict\n",
    "    return result\n",
    "  return wrapper\n",
    "  \n",
    "@returns_dict\n",
    "def foo(value):\n",
    "    return value\n",
    "\n",
    "try:\n",
    "    print(foo([1,2,3]))\n",
    "except AssertionError:\n",
    "    print('foo() did not return a dict!')\n",
    "#foo([1,2,3])  "
   ]
  },
  {
   "cell_type": "code",
   "execution_count": null,
   "id": "d48ae77b",
   "metadata": {},
   "outputs": [],
   "source": []
  },
  {
   "cell_type": "code",
   "execution_count": null,
   "id": "c4415ec3",
   "metadata": {},
   "outputs": [],
   "source": []
  }
 ],
 "metadata": {
  "finalized": {
   "timestamp": 1637677242437,
   "trusted": true
  },
  "kernelspec": {
   "display_name": "Python 3 (ipykernel)",
   "language": "python",
   "name": "python3"
  },
  "language_info": {
   "codemirror_mode": {
    "name": "ipython",
    "version": 3
   },
   "file_extension": ".py",
   "mimetype": "text/x-python",
   "name": "python",
   "nbconvert_exporter": "python",
   "pygments_lexer": "ipython3",
   "version": "3.9.12"
  },
  "toc": {
   "base_numbering": 1,
   "nav_menu": {},
   "number_sections": true,
   "sideBar": true,
   "skip_h1_title": false,
   "title_cell": "Table of Contents",
   "title_sidebar": "Contents",
   "toc_cell": false,
   "toc_position": {},
   "toc_section_display": true,
   "toc_window_display": false
  }
 },
 "nbformat": 4,
 "nbformat_minor": 5
}
